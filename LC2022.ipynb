{
  "nbformat": 4,
  "nbformat_minor": 0,
  "metadata": {
    "colab": {
      "name": "LC2022.ipynb",
      "provenance": [],
      "authorship_tag": "ABX9TyMDAR+Q1cFzX/HHaGtXiRCU",
      "include_colab_link": true
    },
    "kernelspec": {
      "name": "python3",
      "display_name": "Python 3"
    },
    "language_info": {
      "name": "python"
    }
  },
  "cells": [
    {
      "cell_type": "markdown",
      "metadata": {
        "id": "view-in-github",
        "colab_type": "text"
      },
      "source": [
        "<a href=\"https://colab.research.google.com/github/paulobartos/LC2022/blob/main/LC2022.ipynb\" target=\"_parent\"><img src=\"https://colab.research.google.com/assets/colab-badge.svg\" alt=\"Open In Colab\"/></a>"
      ]
    },
    {
      "cell_type": "markdown",
      "source": [
        ""
      ],
      "metadata": {
        "id": "mt5zDp6Bz_qV"
      }
    },
    {
      "cell_type": "markdown",
      "source": [
        "# This is my LC2022 colab"
      ],
      "metadata": {
        "id": "IquO_oPb0BA1"
      }
    },
    {
      "cell_type": "code",
      "execution_count": 1,
      "metadata": {
        "colab": {
          "base_uri": "https://localhost:8080/"
        },
        "id": "1eZSajVMzz43",
        "outputId": "393702a7-28b4-49d3-93f3-2fef2c1252ef"
      },
      "outputs": [
        {
          "output_type": "stream",
          "name": "stdout",
          "text": [
            "hello world\n"
          ]
        }
      ],
      "source": [
        "print(\"hello world\")"
      ]
    },
    {
      "cell_type": "markdown",
      "source": [
        "# O título maior\n",
        "## O segundo maior título\n",
        "###### O título menor\n",
        "\n"
      ],
      "metadata": {
        "id": "5_s48Ss-04JV"
      }
    }
  ]
}